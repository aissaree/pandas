{
 "cells": [
  {
   "cell_type": "code",
   "execution_count": 4,
   "metadata": {},
   "outputs": [],
   "source": [
    "import pandas as pd\n",
    "df=pd.read_excel('dataupdate.xlsx','weather',index_col='Day')\n"
   ]
  },
  {
   "cell_type": "code",
   "execution_count": 6,
   "metadata": {},
   "outputs": [
    {
     "name": "stdout",
     "output_type": "stream",
     "text": [
      "อุณหภูมิ = 30 ส่งผลให้เกิด แดดร้อน\n",
      "อุณหภูมิ = 28 ส่งผลให้เกิด เมฆมาก\n",
      "อุณหภูมิ = 27 ส่งผลให้เกิด ฝนตก\n",
      "อุณหภูมิ = 19 ส่งผลให้เกิด แดดร้อน\n",
      "อุณหภูมิ = 20 ส่งผลให้เกิด เมฆมาก\n",
      "อุณหภูมิ = 25 ส่งผลให้เกิด ฝนตก\n",
      "อุณหภูมิ = 36 ส่งผลให้เกิด ฝนตก\n",
      "อุณหภูมิ = 28 ส่งผลให้เกิด ฝนตก\n",
      "อุณหภูมิ = 17 ส่งผลให้เกิด เมฆมาก\n",
      "อุณหภูมิ = 24 ส่งผลให้เกิด แดดร้อน\n",
      "อุณหภูมิ = 26 ส่งผลให้เกิด ฝนตก\n",
      "อุณหภูมิ = 27 ส่งผลให้เกิด แดดร้อน\n",
      "อุณหภูมิ = 30 ส่งผลให้เกิด แดดร้อน\n",
      "อุณหภูมิ = 31 ส่งผลให้เกิด เมฆมาก\n",
      "อุณหภูมิ = 28 ส่งผลให้เกิด แดดร้อน\n",
      "อุณหภูมิ = 27 ส่งผลให้เกิด แดดร้อน\n",
      "อุณหภูมิ = 20 ส่งผลให้เกิด ฝนตก\n",
      "อุณหภูมิ = 18 ส่งผลให้เกิด ฝนตก\n",
      "อุณหภูมิ = 25 ส่งผลให้เกิด แดดร้อน\n",
      "อุณหภูมิ = 28 ส่งผลให้เกิด เมฆมาก\n",
      "อุณหภูมิ = 25 ส่งผลให้เกิด เมฆมาก\n",
      "อุณหภูมิ = 38 ส่งผลให้เกิด เมฆมาก\n",
      "อุณหภูมิ = 34 ส่งผลให้เกิด ฝนตก\n",
      "อุณหภูมิ = 29 ส่งผลให้เกิด ฝนตก\n",
      "อุณหภูมิ = 34 ส่งผลให้เกิด แดดร้อน\n",
      "อุณหภูมิ = 25 ส่งผลให้เกิด ฝนตก\n",
      "อุณหภูมิ = 28 ส่งผลให้เกิด เมฆมาก\n",
      "อุณหภูมิ = 30 ส่งผลให้เกิด เมฆมาก\n",
      "อุณหภูมิ = 31 ส่งผลให้เกิด ฝนตก\n",
      "อุณหภูมิ = 35 ส่งผลให้เกิด ฝนตก\n"
     ]
    }
   ],
   "source": [
    "for idx, row in df.iterrows():\n",
    "    print(\"อุณหภูมิ = {} ส่งผลให้เกิด {}\".format(row.Temperature,row.Event))"
   ]
  },
  {
   "cell_type": "code",
   "execution_count": null,
   "metadata": {},
   "outputs": [],
   "source": []
  }
 ],
 "metadata": {
  "interpreter": {
   "hash": "5d240ba0dc525c389faa33f5dcce5b4f32b6d6aa6d70d6d2dd929bd2b09ab69f"
  },
  "kernelspec": {
   "display_name": "Python 3.10.0 64-bit",
   "language": "python",
   "name": "python3"
  },
  "language_info": {
   "codemirror_mode": {
    "name": "ipython",
    "version": 3
   },
   "file_extension": ".py",
   "mimetype": "text/x-python",
   "name": "python",
   "nbconvert_exporter": "python",
   "pygments_lexer": "ipython3",
   "version": "3.10.0"
  },
  "orig_nbformat": 4
 },
 "nbformat": 4,
 "nbformat_minor": 2
}
